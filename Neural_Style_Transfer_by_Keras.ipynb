{
  "nbformat": 4,
  "nbformat_minor": 0,
  "metadata": {
    "colab": {
      "name": "Neural Style Transfer by Keras.ipynb",
      "provenance": []
    },
    "kernelspec": {
      "name": "python3",
      "display_name": "Python 3"
    },
    "accelerator": "GPU"
  },
  "cells": [
    {
      "cell_type": "code",
      "metadata": {
        "id": "slhEO77UnFOG",
        "colab_type": "code",
        "colab": {
          "base_uri": "https://localhost:8080/",
          "height": 34
        },
        "outputId": "e2ead241-d08e-4eda-bd3d-de0ddcb2e3e6"
      },
      "source": [
        "from keras.preprocessing.image import load_img, img_to_array\n",
        "\n",
        "style_path = '/content/tumblr_inline_oh8q2htcex1si5ncs_1280.jfif'\n",
        "\n",
        "content_path = '/content/tumblr_pr1c6zASx51snegd3o1_500.jpg'\n",
        "\n",
        "width, height = load_img(content_path).size\n",
        "\n",
        "img_height = 400\n",
        "\n",
        "img_width = int(width * img_height / height)"
      ],
      "execution_count": 1,
      "outputs": [
        {
          "output_type": "stream",
          "text": [
            "Using TensorFlow backend.\n"
          ],
          "name": "stderr"
        }
      ]
    },
    {
      "cell_type": "code",
      "metadata": {
        "id": "4TBvB_llOzDr",
        "colab_type": "code",
        "colab": {}
      },
      "source": [
        "import numpy as np\n",
        "from keras.applications import vgg19\n",
        "\n",
        "def preprocess_img(image_path):\n",
        "  image = load_img(image_path, target_size=(img_height, img_width))\n",
        "  image = img_to_array(image)\n",
        "  image = np.expand_dims(image, axis = 0)\n",
        "  image = vgg19.preprocess_input(image)\n",
        "  return image"
      ],
      "execution_count": 0,
      "outputs": []
    },
    {
      "cell_type": "code",
      "metadata": {
        "id": "VpxapXgYPi5M",
        "colab_type": "code",
        "colab": {}
      },
      "source": [
        "def deprocess_image(x):\n",
        "  x[:, :, 0] += 103.939\n",
        "  x[:, :, 1] += 116.779\n",
        "  x[:, :, 2] += 123.68\n",
        "  x = x[:, :, ::-1]\n",
        "  x = np.clip(x, 0, 255).astype('uint8')\n",
        "  return x"
      ],
      "execution_count": 0,
      "outputs": []
    },
    {
      "cell_type": "code",
      "metadata": {
        "id": "29_wk3edPxLc",
        "colab_type": "code",
        "colab": {
          "base_uri": "https://localhost:8080/",
          "height": 258
        },
        "outputId": "0943464d-d411-4524-c075-c023ca592bfc"
      },
      "source": [
        "from keras import backend as K\n",
        "\n",
        "content_image = K.constant(preprocess_img(content_path))\n",
        "style_image = K.constant(preprocess_img(style_path))\n",
        "generated_image = K.placeholder((1,img_height, img_width, 3))\n",
        "\n",
        "input_tensor = K.concatenate([content_image, style_image, generated_image], axis=0)\n",
        "model = vgg19.VGG19(input_tensor=input_tensor,weights='imagenet',include_top=False)\n",
        "print('Model loaded.')"
      ],
      "execution_count": 4,
      "outputs": [
        {
          "output_type": "stream",
          "text": [
            "WARNING:tensorflow:From /usr/local/lib/python3.6/dist-packages/keras/backend/tensorflow_backend.py:541: The name tf.placeholder is deprecated. Please use tf.compat.v1.placeholder instead.\n",
            "\n",
            "WARNING:tensorflow:From /usr/local/lib/python3.6/dist-packages/keras/backend/tensorflow_backend.py:66: The name tf.get_default_graph is deprecated. Please use tf.compat.v1.get_default_graph instead.\n",
            "\n",
            "WARNING:tensorflow:From /usr/local/lib/python3.6/dist-packages/keras/backend/tensorflow_backend.py:4432: The name tf.random_uniform is deprecated. Please use tf.random.uniform instead.\n",
            "\n",
            "WARNING:tensorflow:From /usr/local/lib/python3.6/dist-packages/keras/backend/tensorflow_backend.py:4267: The name tf.nn.max_pool is deprecated. Please use tf.nn.max_pool2d instead.\n",
            "\n",
            "WARNING:tensorflow:From /usr/local/lib/python3.6/dist-packages/keras/backend/tensorflow_backend.py:190: The name tf.get_default_session is deprecated. Please use tf.compat.v1.get_default_session instead.\n",
            "\n",
            "WARNING:tensorflow:From /usr/local/lib/python3.6/dist-packages/keras/backend/tensorflow_backend.py:197: The name tf.ConfigProto is deprecated. Please use tf.compat.v1.ConfigProto instead.\n",
            "\n",
            "Model loaded.\n"
          ],
          "name": "stdout"
        }
      ]
    },
    {
      "cell_type": "code",
      "metadata": {
        "id": "z_ex22mqVnjf",
        "colab_type": "code",
        "colab": {}
      },
      "source": [
        "def content_loss(base, combination):\n",
        "  return K.sum(K.square(combination - base))"
      ],
      "execution_count": 0,
      "outputs": []
    },
    {
      "cell_type": "code",
      "metadata": {
        "id": "bq-1E6NuV9Xx",
        "colab_type": "code",
        "colab": {}
      },
      "source": [
        "def gram_matrix(x):\n",
        "  features = K.batch_flatten(K.permute_dimensions(x, (2, 0, 1)))\n",
        "  gram = K.dot(features, K.transpose(features))\n",
        "  return gram"
      ],
      "execution_count": 0,
      "outputs": []
    },
    {
      "cell_type": "code",
      "metadata": {
        "id": "keXT6kqqWLNq",
        "colab_type": "code",
        "colab": {}
      },
      "source": [
        "def style_loss(style, combination):\n",
        "  S = gram_matrix(style)\n",
        "  C = gram_matrix(combination)\n",
        "  channels = 3\n",
        "  size = img_height * img_width\n",
        "  return K.sum(K.square(S - C)) / (4. * (channels ** 2) * (size ** 2))"
      ],
      "execution_count": 0,
      "outputs": []
    },
    {
      "cell_type": "code",
      "metadata": {
        "id": "ELvw77tkWjHr",
        "colab_type": "code",
        "colab": {}
      },
      "source": [
        "def total_variation_loss(x):\n",
        "  a = K.square(x[:, :img_height - 1, :img_width - 1, :] - x[:, 1:, :img_width - 1, :])\n",
        "  b = K.square(x[:, :img_height - 1, :img_width - 1, :] - x[:, :img_height - 1, 1:, :])\n",
        "  return K.sum(K.pow(a + b, 1.25))"
      ],
      "execution_count": 0,
      "outputs": []
    },
    {
      "cell_type": "code",
      "metadata": {
        "id": "wZvILOuxZeZd",
        "colab_type": "code",
        "colab": {}
      },
      "source": [
        "output_dict = dict([(layer.name, layer.output) for layer in model.layers])\n",
        "content_layer = 'block5_conv2'\n",
        "style_layers = ['block1_conv1', 'block2_conv1', 'block3_conv1', 'block4_conv1', 'block5_conv1']\n",
        "total_variation_weight = 1e-4\n",
        "style_weight = 1.\n",
        "content_weight = 0.025"
      ],
      "execution_count": 0,
      "outputs": []
    },
    {
      "cell_type": "code",
      "metadata": {
        "id": "PkIqFpYWch7C",
        "colab_type": "code",
        "colab": {
          "base_uri": "https://localhost:8080/",
          "height": 54
        },
        "outputId": "e24f566f-532b-45c3-fef1-ef6ea3255567"
      },
      "source": [
        "loss = K.variable(0.)\n",
        "layer_features = output_dict[content_layer]\n",
        "target_image_features = layer_features[0, :, :, :]\n",
        "combination_features = layer_features[2, :, :, :]\n",
        "loss += content_weight * content_loss(target_image_features, combination_features)"
      ],
      "execution_count": 10,
      "outputs": [
        {
          "output_type": "stream",
          "text": [
            "WARNING:tensorflow:Variable += will be deprecated. Use variable.assign_add if you want assignment to the variable value or 'x = x + y' if you want a new python Tensor object.\n"
          ],
          "name": "stdout"
        }
      ]
    },
    {
      "cell_type": "code",
      "metadata": {
        "id": "dnM0gha_cyJt",
        "colab_type": "code",
        "colab": {}
      },
      "source": [
        "for layer_name in style_layers:\n",
        "  layer_features = output_dict[layer_name]\n",
        "  style_reference_features = layer_features[1, :, :, :]\n",
        "  combination_features = layer_features[2, :, :, :]\n",
        "  sl = style_loss(style_reference_features, combination_features)\n",
        "  loss += (style_weight / len(style_layers)) * sl\n",
        "  loss += total_variation_weight * total_variation_loss(generated_image)"
      ],
      "execution_count": 0,
      "outputs": []
    },
    {
      "cell_type": "code",
      "metadata": {
        "id": "PwC0nIR_dVek",
        "colab_type": "code",
        "colab": {
          "base_uri": "https://localhost:8080/",
          "height": 88
        },
        "outputId": "f884e9ed-dd28-4606-9fb4-8a402b2b4cd3"
      },
      "source": [
        "grads = K.gradients(loss, generated_image)[0]\n",
        "fetch_loss_and_grads = K.function([generated_image], [loss, grads])\n",
        "class Evaluator(object):\n",
        "  def __init__(self):\n",
        "    self.loss_value = None\n",
        "    self.grads_values = None\n",
        "  def loss(self, x):\n",
        "    assert self.loss_value is None\n",
        "    x = x.reshape((1, img_height, img_width, 3))\n",
        "    outs = fetch_loss_and_grads([x])\n",
        "    loss_value = outs[0]\n",
        "    grad_values = outs[1].flatten().astype('float64')\n",
        "    self.loss_value = loss_value\n",
        "    self.grad_values = grad_values\n",
        "    return self.loss_value\n",
        "  def grads(self, x):\n",
        "    assert self.loss_value is not None\n",
        "    grad_values = np.copy(self.grad_values)\n",
        "    self.loss_value = None\n",
        "    self.grad_values = None\n",
        "    return grad_values"
      ],
      "execution_count": 12,
      "outputs": [
        {
          "output_type": "stream",
          "text": [
            "WARNING:tensorflow:From /usr/local/lib/python3.6/dist-packages/tensorflow/python/ops/math_grad.py:1205: add_dispatch_support.<locals>.wrapper (from tensorflow.python.ops.array_ops) is deprecated and will be removed in a future version.\n",
            "Instructions for updating:\n",
            "Use tf.where in 2.0, which has the same broadcast rule as np.where\n"
          ],
          "name": "stdout"
        }
      ]
    },
    {
      "cell_type": "code",
      "metadata": {
        "id": "qOiI5VDqgXcz",
        "colab_type": "code",
        "colab": {}
      },
      "source": [
        "evaluator = Evaluator()"
      ],
      "execution_count": 0,
      "outputs": []
    },
    {
      "cell_type": "code",
      "metadata": {
        "id": "6vIJSlAjuv4n",
        "colab_type": "code",
        "colab": {
          "base_uri": "https://localhost:8080/",
          "height": 292
        },
        "outputId": "dc88bc6b-e364-4288-8e61-12c21982d9e5"
      },
      "source": [
        "!pip install -U scipy==1.2.0"
      ],
      "execution_count": 39,
      "outputs": [
        {
          "output_type": "stream",
          "text": [
            "Collecting scipy==1.2.0\n",
            "\u001b[?25l  Downloading https://files.pythonhosted.org/packages/67/e6/6d4edaceee6a110ecf6f318482f5229792f143e468b34a631f5a0899f56d/scipy-1.2.0-cp36-cp36m-manylinux1_x86_64.whl (26.6MB)\n",
            "\u001b[K     |████████████████████████████████| 26.6MB 47.5MB/s \n",
            "\u001b[?25hRequirement already satisfied, skipping upgrade: numpy>=1.8.2 in /usr/local/lib/python3.6/dist-packages (from scipy==1.2.0) (1.16.5)\n",
            "\u001b[31mERROR: albumentations 0.1.12 has requirement imgaug<0.2.7,>=0.2.5, but you'll have imgaug 0.2.9 which is incompatible.\u001b[0m\n",
            "Installing collected packages: scipy\n",
            "  Found existing installation: scipy 1.3.1\n",
            "    Uninstalling scipy-1.3.1:\n",
            "      Successfully uninstalled scipy-1.3.1\n",
            "Successfully installed scipy-1.2.0\n"
          ],
          "name": "stdout"
        },
        {
          "output_type": "display_data",
          "data": {
            "application/vnd.colab-display-data+json": {
              "pip_warning": {
                "packages": [
                  "scipy"
                ]
              }
            }
          },
          "metadata": {
            "tags": []
          }
        }
      ]
    },
    {
      "cell_type": "code",
      "metadata": {
        "id": "GRjVdVEMghwQ",
        "colab_type": "code",
        "colab": {
          "base_uri": "https://localhost:8080/",
          "height": 1000
        },
        "outputId": "6f8611a6-91a5-4bc4-c2ad-3c4ea23ef7cc"
      },
      "source": [
        "from scipy.optimize import fmin_l_bfgs_b\n",
        "from scipy.misc import imsave\n",
        "import time\n",
        "\n",
        "result_prefix = 'my_result'\n",
        "iterations = 20\n",
        "\n",
        "x = preprocess_img(content_path)\n",
        "x = x.flatten()\n",
        "\n",
        "for i in range(iterations):\n",
        "  print('Start at iteration', i)\n",
        "  start_time = time.time()\n",
        "  x, min_val, info = fmin_l_bfgs_b(evaluator.loss, x, fprime=evaluator.grads, maxfun=20)\n",
        "  print('Current loss value:', min_val)\n",
        "  img = x.copy().reshape((img_height, img_width, 3))\n",
        "  img = deprocess_image(img)\n",
        "  fname = result_prefix + '_at_iteration_%d.png' % i\n",
        "  imsave(fname, img)\n",
        "  print('Image saved as', fname)\n",
        "  end_time = time.time()\n",
        "  print('Iteration %d completed in %ds' % (i, end_time - start_time))"
      ],
      "execution_count": 16,
      "outputs": [
        {
          "output_type": "stream",
          "text": [
            "Start at iteration 0\n",
            "Current loss value: 1561450400.0\n",
            "Image saved as my_result_at_iteration_0.png\n",
            "Iteration 0 completed in 16s\n",
            "Start at iteration 1\n"
          ],
          "name": "stdout"
        },
        {
          "output_type": "stream",
          "text": [
            "/usr/local/lib/python3.6/dist-packages/ipykernel_launcher.py:19: DeprecationWarning: `imsave` is deprecated!\n",
            "`imsave` is deprecated in SciPy 1.0.0, and will be removed in 1.2.0.\n",
            "Use ``imageio.imwrite`` instead.\n"
          ],
          "name": "stderr"
        },
        {
          "output_type": "stream",
          "text": [
            "Current loss value: 733996860.0\n",
            "Image saved as my_result_at_iteration_1.png\n",
            "Iteration 1 completed in 7s\n",
            "Start at iteration 2\n",
            "Current loss value: 505713280.0\n",
            "Image saved as my_result_at_iteration_2.png\n",
            "Iteration 2 completed in 8s\n",
            "Start at iteration 3\n",
            "Current loss value: 390873200.0\n",
            "Image saved as my_result_at_iteration_3.png\n",
            "Iteration 3 completed in 8s\n",
            "Start at iteration 4\n",
            "Current loss value: 333675420.0\n",
            "Image saved as my_result_at_iteration_4.png\n",
            "Iteration 4 completed in 8s\n",
            "Start at iteration 5\n",
            "Current loss value: 299801700.0\n",
            "Image saved as my_result_at_iteration_5.png\n",
            "Iteration 5 completed in 7s\n",
            "Start at iteration 6\n",
            "Current loss value: 269744640.0\n",
            "Image saved as my_result_at_iteration_6.png\n",
            "Iteration 6 completed in 8s\n",
            "Start at iteration 7\n",
            "Current loss value: 248262380.0\n",
            "Image saved as my_result_at_iteration_7.png\n",
            "Iteration 7 completed in 7s\n",
            "Start at iteration 8\n",
            "Current loss value: 214819360.0\n",
            "Image saved as my_result_at_iteration_8.png\n",
            "Iteration 8 completed in 8s\n",
            "Start at iteration 9\n",
            "Current loss value: 192908670.0\n",
            "Image saved as my_result_at_iteration_9.png\n",
            "Iteration 9 completed in 8s\n",
            "Start at iteration 10\n",
            "Current loss value: 180788720.0\n",
            "Image saved as my_result_at_iteration_10.png\n",
            "Iteration 10 completed in 8s\n",
            "Start at iteration 11\n",
            "Current loss value: 172004180.0\n",
            "Image saved as my_result_at_iteration_11.png\n",
            "Iteration 11 completed in 7s\n",
            "Start at iteration 12\n",
            "Current loss value: 156756450.0\n",
            "Image saved as my_result_at_iteration_12.png\n",
            "Iteration 12 completed in 8s\n",
            "Start at iteration 13\n",
            "Current loss value: 146987150.0\n",
            "Image saved as my_result_at_iteration_13.png\n",
            "Iteration 13 completed in 8s\n",
            "Start at iteration 14\n",
            "Current loss value: 140649800.0\n",
            "Image saved as my_result_at_iteration_14.png\n",
            "Iteration 14 completed in 8s\n",
            "Start at iteration 15\n",
            "Current loss value: 135180160.0\n",
            "Image saved as my_result_at_iteration_15.png\n",
            "Iteration 15 completed in 7s\n",
            "Start at iteration 16\n",
            "Current loss value: 129643520.0\n",
            "Image saved as my_result_at_iteration_16.png\n",
            "Iteration 16 completed in 8s\n",
            "Start at iteration 17\n",
            "Current loss value: 122921330.0\n",
            "Image saved as my_result_at_iteration_17.png\n",
            "Iteration 17 completed in 7s\n",
            "Start at iteration 18\n",
            "Current loss value: 116414950.0\n",
            "Image saved as my_result_at_iteration_18.png\n",
            "Iteration 18 completed in 8s\n",
            "Start at iteration 19\n",
            "Current loss value: 112264270.0\n",
            "Image saved as my_result_at_iteration_19.png\n",
            "Iteration 19 completed in 7s\n"
          ],
          "name": "stdout"
        }
      ]
    },
    {
      "cell_type": "code",
      "metadata": {
        "id": "EeVwOwKkufBe",
        "colab_type": "code",
        "colab": {}
      },
      "source": [
        ""
      ],
      "execution_count": 0,
      "outputs": []
    }
  ]
}