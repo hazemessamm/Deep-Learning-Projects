{
  "nbformat": 4,
  "nbformat_minor": 0,
  "metadata": {
    "colab": {
      "name": "MobileNet.ipynb",
      "provenance": []
    },
    "kernelspec": {
      "name": "python3",
      "display_name": "Python 3"
    }
  },
  "cells": [
    {
      "cell_type": "code",
      "metadata": {
        "id": "Qhb0okfiGx05",
        "colab_type": "code",
        "colab": {}
      },
      "source": [
        "from tensorflow.keras import layers\n",
        "from tensorflow.keras.datasets import mnist\n",
        "from tensorflow.keras.utils import to_categorical\n",
        "from tensorflow.keras.models import Model\n",
        "import tensorflow as tf\n",
        "import numpy as np"
      ],
      "execution_count": 0,
      "outputs": []
    },
    {
      "cell_type": "code",
      "metadata": {
        "id": "B0V4dnNKG5Pa",
        "colab_type": "code",
        "colab": {}
      },
      "source": [
        "class MobileNetBlock(layers.Layer):\n",
        "  def __init__(self, num_filters, strides):\n",
        "    super(MobileNetBlock, self).__init__()\n",
        "    self.depthwise_layer = layers.DepthwiseConv2D(kernel_size=3, strides=strides, padding='same')\n",
        "    self.batchnorm_layer_1 = layers.BatchNormalization()\n",
        "    self.conv_layer = layers.Conv2D(filters=num_filters, kernel_size=1, strides=1, padding='same')\n",
        "    self.batchnorm_layer_2 = layers.BatchNormalization()\n",
        "  def call(self, tensor):\n",
        "    x = self.depthwise_layer(tensor)\n",
        "    x = self.batchnorm_layer_1(x)\n",
        "    x = layers.ReLU()(x)\n",
        "    x = self.conv_layer(x)\n",
        "    x = self.batchnorm_layer_2(x)\n",
        "    x = layers.ReLU()(x)\n",
        "    return x"
      ],
      "execution_count": 0,
      "outputs": []
    },
    {
      "cell_type": "code",
      "metadata": {
        "id": "oXrE8ak5IIbk",
        "colab_type": "code",
        "colab": {}
      },
      "source": [
        "input_layer = layers.Input((224, 224, 3))\n",
        "x = layers.Conv2D(filters=32, kernel_size=3, strides=2, padding='same')(input_layer)\n",
        "x = layers.BatchNormalization()(x)\n",
        "x = layers.ReLU()(x)\n",
        "x = MobileNetBlock(64, 1)(x)\n",
        "x = MobileNetBlock(128, 2)(x)\n",
        "x = MobileNetBlock(128, 1)(x)\n",
        "x = MobileNetBlock(256, 2)(x)\n",
        "x = MobileNetBlock(256, 1)(x)\n",
        "x = MobileNetBlock(512, 2)(x)\n",
        "for _ in range(5):\n",
        "  x = MobileNetBlock(512, 1)(x)\n",
        "x = MobileNetBlock(1024, 2)(x)\n",
        "x = MobileNetBlock(1024, 1)(x)\n",
        "x = layers.AveragePooling2D(pool_size=7, strides=1)(x)\n",
        "output_layer = layers.Dense(10, activation=tf.nn.softmax)(x)\n",
        "model = Model(input_layer, output_layer)"
      ],
      "execution_count": 0,
      "outputs": []
    },
    {
      "cell_type": "code",
      "metadata": {
        "id": "KELZHzBcJXou",
        "colab_type": "code",
        "colab": {}
      },
      "source": [
        ""
      ],
      "execution_count": 0,
      "outputs": []
    }
  ]
}