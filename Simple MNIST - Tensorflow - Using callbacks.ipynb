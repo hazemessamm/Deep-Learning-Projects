{
  "nbformat": 4,
  "nbformat_minor": 0,
  "metadata": {
    "colab": {
      "name": "Exercise 2 - Answer.ipynb",
      "version": "0.3.2",
      "provenance": []
    },
    "kernelspec": {
      "name": "python3",
      "display_name": "Python 3"
    },
    "accelerator": "GPU"
  },
  "cells": [
    {
      "cell_type": "code",
      "metadata": {
        "colab_type": "code",
        "id": "22hBZbxx98IS",
        "colab": {
          "base_uri": "https://localhost:8080/",
          "height": 374
        },
        "outputId": "43671f65-aba1-4995-f70b-c7937a363732"
      },
      "source": [
        "import tensorflow as tf\n",
        "\n",
        "class myCallback(tf.keras.callbacks.Callback):\n",
        "  def on_epoch_end(self, epoch, logs={}):\n",
        "    if(logs.get('acc')>0.998):\n",
        "      print(\"\\nReached 99.8% accuracy so cancelling training!\")\n",
        "      self.model.stop_training = True\n",
        "\n",
        "callbacks = myCallback()\n",
        "mnist = tf.keras.datasets.mnist\n",
        "(training_images, training_labels), (test_images, test_labels) = mnist.load_data()\n",
        "training_images=training_images.reshape(60000, 28, 28, 1)\n",
        "training_images=training_images / 255.0\n",
        "test_images = test_images.reshape(10000, 28, 28, 1)\n",
        "test_images=test_images/255.0\n",
        "model = tf.keras.models.Sequential([\n",
        "  tf.keras.layers.Conv2D(32, (3,3), activation=tf.nn.relu, input_shape=(28, 28, 1)),\n",
        "  tf.keras.layers.MaxPooling2D(2, 2),\n",
        "  tf.keras.layers.Flatten(),\n",
        "  tf.keras.layers.Dense(128, activation=tf.nn.relu),\n",
        "  tf.keras.layers.Dense(10, activation=tf.nn.softmax)\n",
        "])\n",
        "model.compile(optimizer=tf.train.AdamOptimizer(), loss='sparse_categorical_crossentropy', metrics=['accuracy'])\n",
        "model.fit(training_images, training_labels, epochs=10, callbacks=[callbacks])\n"
      ],
      "execution_count": 3,
      "outputs": [
        {
          "output_type": "stream",
          "text": [
            "Epoch 1/10\n",
            "60000/60000 [==============================] - 6s 97us/sample - loss: 0.1538 - acc: 0.9544\n",
            "Epoch 2/10\n",
            "60000/60000 [==============================] - 6s 97us/sample - loss: 0.0521 - acc: 0.9840\n",
            "Epoch 3/10\n",
            "60000/60000 [==============================] - 6s 99us/sample - loss: 0.0320 - acc: 0.9901\n",
            "Epoch 4/10\n",
            "60000/60000 [==============================] - 6s 100us/sample - loss: 0.0213 - acc: 0.9932\n",
            "Epoch 5/10\n",
            "60000/60000 [==============================] - 6s 93us/sample - loss: 0.0142 - acc: 0.9955\n",
            "Epoch 6/10\n",
            "60000/60000 [==============================] - 6s 93us/sample - loss: 0.0098 - acc: 0.9967\n",
            "Epoch 7/10\n",
            "60000/60000 [==============================] - 6s 92us/sample - loss: 0.0081 - acc: 0.9974\n",
            "Epoch 8/10\n",
            "60000/60000 [==============================] - 6s 92us/sample - loss: 0.0065 - acc: 0.9978\n",
            "Epoch 9/10\n",
            "59616/60000 [============================>.] - ETA: 0s - loss: 0.0047 - acc: 0.9985\n",
            "Reached 99.8% accuracy so cancelling training!\n",
            "60000/60000 [==============================] - 6s 97us/sample - loss: 0.0047 - acc: 0.9984\n"
          ],
          "name": "stdout"
        },
        {
          "output_type": "execute_result",
          "data": {
            "text/plain": [
              "<tensorflow.python.keras.callbacks.History at 0x7f33203b46d8>"
            ]
          },
          "metadata": {
            "tags": []
          },
          "execution_count": 3
        }
      ]
    },
    {
      "cell_type": "code",
      "metadata": {
        "id": "Aht3stduCDx9",
        "colab_type": "code",
        "colab": {}
      },
      "source": [
        ""
      ],
      "execution_count": 0,
      "outputs": []
    }
  ]
}
