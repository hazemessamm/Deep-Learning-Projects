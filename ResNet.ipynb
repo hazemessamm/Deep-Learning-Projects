{
  "nbformat": 4,
  "nbformat_minor": 0,
  "metadata": {
    "colab": {
      "name": "ResNet.ipynb",
      "provenance": [],
      "collapsed_sections": []
    },
    "kernelspec": {
      "name": "python3",
      "display_name": "Python 3"
    },
    "accelerator": "GPU"
  },
  "cells": [
    {
      "cell_type": "code",
      "metadata": {
        "id": "oZQmMVoueB8E",
        "colab_type": "code",
        "outputId": "d9ca17d8-97ce-438b-9f39-9e3febb52c49",
        "colab": {
          "base_uri": "https://localhost:8080/",
          "height": 34
        }
      },
      "source": [
        "from tensorflow.keras import layers\n",
        "from tensorflow.keras.models import Model\n",
        "import tensorflow as tf\n",
        "from tensorflow.keras.optimizers import Adam\n",
        "import numpy as np\n",
        "tf.__version__"
      ],
      "execution_count": 0,
      "outputs": [
        {
          "output_type": "execute_result",
          "data": {
            "text/plain": [
              "'2.2.0-rc4'"
            ]
          },
          "metadata": {
            "tags": []
          },
          "execution_count": 1
        }
      ]
    },
    {
      "cell_type": "markdown",
      "metadata": {
        "id": "LkepIpyDlxYn",
        "colab_type": "text"
      },
      "source": [
        "**Check ResNet paper https://arxiv.org/pdf/1512.03385.pdf**"
      ]
    },
    {
      "cell_type": "code",
      "metadata": {
        "id": "Tgn15WwEeHND",
        "colab_type": "code",
        "colab": {}
      },
      "source": [
        "class ConvNormRelU(layers.Layer):\n",
        "  def __init__(self, num_filters, kernel_size, strides):\n",
        "    super(ConvNormRelU, self).__init__()\n",
        "    self.num_filters = num_filters\n",
        "    self.kernel_size = kernel_size\n",
        "    self.strides = strides\n",
        "    self.conv_layer = layers.Conv2D(self.num_filters, self.kernel_size, strides=self.strides, padding='same')\n",
        "    self.batch_norm_layer = layers.BatchNormalization()\n",
        "  def call(self, tensor):\n",
        "    x = self.conv_layer(tensor)\n",
        "    x = self.batch_norm_layer(x)\n",
        "    x = layers.ReLU()(x)\n",
        "    return x"
      ],
      "execution_count": 0,
      "outputs": []
    },
    {
      "cell_type": "code",
      "metadata": {
        "id": "FBLIe4Knljxd",
        "colab_type": "code",
        "colab": {}
      },
      "source": [
        "class Projection(layers.Layer):\n",
        "  def __init__(self, num_filters, strides):\n",
        "    super(Projection, self).__init__()\n",
        "    self.num_filters = num_filters\n",
        "    self.strides = strides\n",
        "    self.conv_block_1 = ConvNormRelU(self.num_filters, kernel_size=1, strides=self.strides)\n",
        "    self.conv_block_2 = ConvNormRelU(self.num_filters, kernel_size=3, strides=1)\n",
        "    self.conv_layer = layers.Conv2D(4*self.num_filters, kernel_size=1, strides=1)\n",
        "    self.shortcut_conv = layers.Conv2D(4*self.num_filters, kernel_size=1, strides=self.strides)\n",
        "    self.batch_norm = layers.BatchNormalization()\n",
        "  def call(self, tensor):\n",
        "    x = self.conv_block_1(tensor)\n",
        "    x = self.conv_block_2(x)\n",
        "    x = self.conv_layer(x)\n",
        "    shortcut = self.shortcut_conv(tensor)\n",
        "    shortcut = self.batch_norm(shortcut)\n",
        "    x = layers.Add()([x, shortcut])\n",
        "    x = layers.ReLU()(x)\n",
        "    return x"
      ],
      "execution_count": 0,
      "outputs": []
    },
    {
      "cell_type": "code",
      "metadata": {
        "id": "wromq-rxkIZr",
        "colab_type": "code",
        "colab": {}
      },
      "source": [
        "class Identity(layers.Layer):\n",
        "  def __init__(self, num_filters):\n",
        "    super(Identity, self).__init__()\n",
        "    self.num_filters = num_filters\n",
        "    self.conv_block_1 = ConvNormRelU(self.num_filters, 1, strides=1)\n",
        "    self.conv_block_2 = ConvNormRelU(self.num_filters, 3, strides=1)\n",
        "    self.conv_layer = layers.Conv2D(4*self.num_filters, 1, strides=1)\n",
        "    self.batch_norm = layers.BatchNormalization()\n",
        "  def call(self, tensor):\n",
        "    x = self.conv_block_1(tensor)\n",
        "    x = self.conv_block_2(x)\n",
        "    x = self.conv_layer(x)\n",
        "    x = self.batch_norm(x)\n",
        "    x = layers.Add()([x, tensor])\n",
        "    x = layers.ReLU()(x)\n",
        "    return x"
      ],
      "execution_count": 0,
      "outputs": []
    },
    {
      "cell_type": "code",
      "metadata": {
        "id": "cDxharX2mmjZ",
        "colab_type": "code",
        "colab": {}
      },
      "source": [
        "class ResidualBlock(layers.Layer):\n",
        "  def __init__(self, num_filters, repitions, strides):\n",
        "    super(ResidualBlock, self).__init__()\n",
        "    self.num_filters = num_filters\n",
        "    self.repititions = repitions-1\n",
        "    self.strides = strides\n",
        "  def call(self, tensor):\n",
        "    x = Projection(self.num_filters, self.strides)(tensor)\n",
        "    for i in range(self.repititions):\n",
        "      x = Identity(self.num_filters)(x)\n",
        "    return x"
      ],
      "execution_count": 0,
      "outputs": []
    },
    {
      "cell_type": "code",
      "metadata": {
        "id": "wK4Q1YHsnlqp",
        "colab_type": "code",
        "colab": {}
      },
      "source": [
        "input_layer = layers.Input(shape=(28,28,1))\n",
        "x = ConvNormRelU(num_filters=64, kernel_size=7, strides=2)(input_layer)\n",
        "x = layers.MaxPool2D((2,2), strides=2, padding='same')(x)\n",
        "\n",
        "x = ResidualBlock(64, 3, 1)(x)\n",
        "x = ResidualBlock(128, 4, 2)(x)\n",
        "x = ResidualBlock(256, 6, 2)(x)\n",
        "x = ResidualBlock(512, 3, 2)(x)\n",
        "\n",
        "x = layers.GlobalAvgPool2D()(x)\n",
        "\n",
        "output_layer = layers.Dense(10, activation='softmax')(x)\n",
        "\n",
        "model = Model(input_layer, output_layer)"
      ],
      "execution_count": 0,
      "outputs": []
    },
    {
      "cell_type": "code",
      "metadata": {
        "id": "dlTVR3m559XV",
        "colab_type": "code",
        "outputId": "9ecf40c3-832f-49e4-ada4-d756bd5656ea",
        "colab": {
          "base_uri": "https://localhost:8080/",
          "height": 454
        }
      },
      "source": [
        "model.summary()\n"
      ],
      "execution_count": 0,
      "outputs": [
        {
          "output_type": "stream",
          "text": [
            "Model: \"model\"\n",
            "_________________________________________________________________\n",
            "Layer (type)                 Output Shape              Param #   \n",
            "=================================================================\n",
            "input_1 (InputLayer)         [(None, 28, 28, 1)]       0         \n",
            "_________________________________________________________________\n",
            "conv_norm_rel_u (ConvNormRel (None, 14, 14, 64)        3456      \n",
            "_________________________________________________________________\n",
            "max_pooling2d (MaxPooling2D) (None, 7, 7, 64)          0         \n",
            "_________________________________________________________________\n",
            "residual_block (ResidualBloc (None, 7, 7, 256)         0         \n",
            "_________________________________________________________________\n",
            "residual_block_1 (ResidualBl (None, 4, 4, 512)         0         \n",
            "_________________________________________________________________\n",
            "residual_block_2 (ResidualBl (None, 2, 2, 1024)        0         \n",
            "_________________________________________________________________\n",
            "residual_block_3 (ResidualBl (None, 1, 1, 2048)        0         \n",
            "_________________________________________________________________\n",
            "global_average_pooling2d (Gl (None, 2048)              0         \n",
            "_________________________________________________________________\n",
            "dense (Dense)                (None, 10)                20490     \n",
            "=================================================================\n",
            "Total params: 23,946\n",
            "Trainable params: 23,818\n",
            "Non-trainable params: 128\n",
            "_________________________________________________________________\n"
          ],
          "name": "stdout"
        }
      ]
    },
    {
      "cell_type": "code",
      "metadata": {
        "id": "LnAXSyW4n6QK",
        "colab_type": "code",
        "outputId": "1dc5a077-f850-43b6-fe49-87dd0525ace5",
        "colab": {
          "base_uri": "https://localhost:8080/",
          "height": 50
        }
      },
      "source": [
        "(x_train, y_train), _ = tf.keras.datasets.mnist.load_data()\n",
        "dataset = tf.data.Dataset.from_tensor_slices((x_train.reshape(60000, 28, 28, 1).astype('float32') / 255, tf.keras.utils.to_categorical(y_train)))\n",
        "dataset = dataset.shuffle(buffer_size=1024).batch(64)"
      ],
      "execution_count": 0,
      "outputs": [
        {
          "output_type": "stream",
          "text": [
            "Downloading data from https://storage.googleapis.com/tensorflow/tf-keras-datasets/mnist.npz\n",
            "11493376/11490434 [==============================] - 0s 0us/step\n"
          ],
          "name": "stdout"
        }
      ]
    },
    {
      "cell_type": "code",
      "metadata": {
        "id": "io02NOx6uPGh",
        "colab_type": "code",
        "colab": {}
      },
      "source": [
        "epochs = 50\n",
        "optimizer = Adam()\n",
        "loss_fn = tf.keras.losses.CategoricalCrossentropy(from_logits=True)\n",
        "for epoch, (x, y) in enumerate(dataset):\n",
        "  with tf.GradientTape() as tape:\n",
        "    logits = model(x)\n",
        "    loss = loss_fn(y, logits)\n",
        "  gradients = tape.gradient(loss, model.trainable_weights)\n",
        "  optimizer.apply_gradients(zip(gradients, model.trainable_weights))\n",
        "  if epoch % 10 == 0:\n",
        "    print(f'Loss: {loss}')"
      ],
      "execution_count": 0,
      "outputs": []
    },
    {
      "cell_type": "code",
      "metadata": {
        "id": "sln_ly55BuzE",
        "colab_type": "code",
        "colab": {}
      },
      "source": [
        ""
      ],
      "execution_count": 0,
      "outputs": []
    }
  ]
}