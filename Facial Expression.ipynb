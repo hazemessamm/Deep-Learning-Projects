{
 "cells": [
  {
   "cell_type": "code",
   "execution_count": 1,
   "metadata": {},
   "outputs": [],
   "source": [
    "import tensorflow as tf\n",
    "from tensorflow import keras\n",
    "from tensorflow.keras import layers\n",
    "from tensorflow.keras import Model\n",
    "from tensorflow.keras.applications.vgg16 import VGG16\n",
    "import pandas as pd\n",
    "import numpy as np\n",
    "import matplotlib.pyplot as plt\n",
    "from sklearn.model_selection import train_test_split"
   ]
  },
  {
   "cell_type": "code",
   "execution_count": 2,
   "metadata": {},
   "outputs": [],
   "source": [
    "training_dataframe = pd.read_csv('train.csv')\n",
    "testing_dataframe = pd.read_csv('test.csv')"
   ]
  },
  {
   "cell_type": "code",
   "execution_count": 3,
   "metadata": {},
   "outputs": [
    {
     "data": {
      "text/html": [
       "<div>\n",
       "<style scoped>\n",
       "    .dataframe tbody tr th:only-of-type {\n",
       "        vertical-align: middle;\n",
       "    }\n",
       "\n",
       "    .dataframe tbody tr th {\n",
       "        vertical-align: top;\n",
       "    }\n",
       "\n",
       "    .dataframe thead th {\n",
       "        text-align: right;\n",
       "    }\n",
       "</style>\n",
       "<table border=\"1\" class=\"dataframe\">\n",
       "  <thead>\n",
       "    <tr style=\"text-align: right;\">\n",
       "      <th></th>\n",
       "      <th>emotion</th>\n",
       "      <th>pixels</th>\n",
       "    </tr>\n",
       "  </thead>\n",
       "  <tbody>\n",
       "    <tr>\n",
       "      <th>0</th>\n",
       "      <td>0</td>\n",
       "      <td>70 80 82 72 58 58 60 63 54 58 60 48 89 115 121...</td>\n",
       "    </tr>\n",
       "    <tr>\n",
       "      <th>1</th>\n",
       "      <td>0</td>\n",
       "      <td>151 150 147 155 148 133 111 140 170 174 182 15...</td>\n",
       "    </tr>\n",
       "    <tr>\n",
       "      <th>2</th>\n",
       "      <td>2</td>\n",
       "      <td>231 212 156 164 174 138 161 173 182 200 106 38...</td>\n",
       "    </tr>\n",
       "    <tr>\n",
       "      <th>3</th>\n",
       "      <td>4</td>\n",
       "      <td>24 32 36 30 32 23 19 20 30 41 21 22 32 34 21 1...</td>\n",
       "    </tr>\n",
       "    <tr>\n",
       "      <th>4</th>\n",
       "      <td>6</td>\n",
       "      <td>4 0 0 0 0 0 0 0 0 0 0 0 3 15 23 28 48 50 58 84...</td>\n",
       "    </tr>\n",
       "  </tbody>\n",
       "</table>\n",
       "</div>"
      ],
      "text/plain": [
       "   emotion                                             pixels\n",
       "0        0  70 80 82 72 58 58 60 63 54 58 60 48 89 115 121...\n",
       "1        0  151 150 147 155 148 133 111 140 170 174 182 15...\n",
       "2        2  231 212 156 164 174 138 161 173 182 200 106 38...\n",
       "3        4  24 32 36 30 32 23 19 20 30 41 21 22 32 34 21 1...\n",
       "4        6  4 0 0 0 0 0 0 0 0 0 0 0 3 15 23 28 48 50 58 84..."
      ]
     },
     "execution_count": 3,
     "metadata": {},
     "output_type": "execute_result"
    }
   ],
   "source": [
    "training_dataframe.head()"
   ]
  },
  {
   "cell_type": "code",
   "execution_count": 4,
   "metadata": {},
   "outputs": [
    {
     "data": {
      "text/html": [
       "<div>\n",
       "<style scoped>\n",
       "    .dataframe tbody tr th:only-of-type {\n",
       "        vertical-align: middle;\n",
       "    }\n",
       "\n",
       "    .dataframe tbody tr th {\n",
       "        vertical-align: top;\n",
       "    }\n",
       "\n",
       "    .dataframe thead th {\n",
       "        text-align: right;\n",
       "    }\n",
       "</style>\n",
       "<table border=\"1\" class=\"dataframe\">\n",
       "  <thead>\n",
       "    <tr style=\"text-align: right;\">\n",
       "      <th></th>\n",
       "      <th>pixels</th>\n",
       "    </tr>\n",
       "  </thead>\n",
       "  <tbody>\n",
       "    <tr>\n",
       "      <th>0</th>\n",
       "      <td>254 254 254 254 254 249 255 160 2 58 53 70 77 ...</td>\n",
       "    </tr>\n",
       "    <tr>\n",
       "      <th>1</th>\n",
       "      <td>156 184 198 202 204 207 210 212 213 214 215 21...</td>\n",
       "    </tr>\n",
       "    <tr>\n",
       "      <th>2</th>\n",
       "      <td>69 118 61 60 96 121 103 87 103 88 70 90 115 12...</td>\n",
       "    </tr>\n",
       "    <tr>\n",
       "      <th>3</th>\n",
       "      <td>205 203 236 157 83 158 120 116 94 86 155 180 2...</td>\n",
       "    </tr>\n",
       "    <tr>\n",
       "      <th>4</th>\n",
       "      <td>87 79 74 66 74 96 77 80 80 84 83 89 102 91 84 ...</td>\n",
       "    </tr>\n",
       "  </tbody>\n",
       "</table>\n",
       "</div>"
      ],
      "text/plain": [
       "                                              pixels\n",
       "0  254 254 254 254 254 249 255 160 2 58 53 70 77 ...\n",
       "1  156 184 198 202 204 207 210 212 213 214 215 21...\n",
       "2  69 118 61 60 96 121 103 87 103 88 70 90 115 12...\n",
       "3  205 203 236 157 83 158 120 116 94 86 155 180 2...\n",
       "4  87 79 74 66 74 96 77 80 80 84 83 89 102 91 84 ..."
      ]
     },
     "execution_count": 4,
     "metadata": {},
     "output_type": "execute_result"
    }
   ],
   "source": [
    "testing_dataframe.head()"
   ]
  },
  {
   "cell_type": "code",
   "execution_count": 5,
   "metadata": {},
   "outputs": [],
   "source": [
    "train_x, val_x, train_y, val_y = train_test_split(training_dataframe.pixels, training_dataframe.emotion, test_size=0.15, random_state=30)"
   ]
  },
  {
   "cell_type": "code",
   "execution_count": 6,
   "metadata": {},
   "outputs": [],
   "source": [
    "def create_dataset(dataframe):\n",
    "    dataset = []\n",
    "    for example in dataframe:\n",
    "        example = example.split(' ')\n",
    "        dataset.append(example)\n",
    "    dataset = np.array(dataset)\n",
    "    dataset = dataset.reshape(-1, 48, 48, 1)\n",
    "    dataset = dataset.astype(np.float32)\n",
    "    return dataset"
   ]
  },
  {
   "cell_type": "code",
   "execution_count": 7,
   "metadata": {},
   "outputs": [],
   "source": [
    "train_x = create_dataset(train_x)"
   ]
  },
  {
   "cell_type": "code",
   "execution_count": 8,
   "metadata": {},
   "outputs": [
    {
     "data": {
      "text/plain": [
       "(24402, 48, 48, 1)"
      ]
     },
     "execution_count": 8,
     "metadata": {},
     "output_type": "execute_result"
    }
   ],
   "source": [
    "train_x.shape"
   ]
  },
  {
   "cell_type": "code",
   "execution_count": 9,
   "metadata": {},
   "outputs": [],
   "source": [
    "val_x = create_dataset(val_x)"
   ]
  },
  {
   "cell_type": "code",
   "execution_count": 10,
   "metadata": {},
   "outputs": [],
   "source": [
    "train_y = tf.keras.utils.to_categorical(train_y)"
   ]
  },
  {
   "cell_type": "code",
   "execution_count": 11,
   "metadata": {},
   "outputs": [],
   "source": [
    "val_y = tf.keras.utils.to_categorical(val_y)"
   ]
  },
  {
   "cell_type": "code",
   "execution_count": 12,
   "metadata": {},
   "outputs": [],
   "source": [
    "training_dataset = tf.data.Dataset.from_tensor_slices((train_x, train_y))"
   ]
  },
  {
   "cell_type": "code",
   "execution_count": 14,
   "metadata": {},
   "outputs": [],
   "source": [
    "training_dataset = training_dataset.batch(128)"
   ]
  },
  {
   "cell_type": "code",
   "execution_count": 15,
   "metadata": {},
   "outputs": [],
   "source": [
    "tf.keras.backend.clear_session()\n",
    "inputs = keras.Input(shape=(48, 48, 1))\n",
    "\n",
    "x = layers.Conv2D(16, 3,activation=tf.nn.relu, padding='same')(inputs)\n",
    "residual_project = layers.Conv2D(16,3 ,activation=tf.nn.relu, padding='same')(x)\n",
    "x = layers.Conv2D(16,3 ,activation=tf.nn.relu, padding='same')(x)\n",
    "x = layers.Add()([x, residual_project])\n",
    "x = layers.Conv2D(16, 3, activation=tf.nn.relu)(xtf)\n",
    "x = layers.GlobalAveragePooling2D()(x)\n",
    "x = layers.Dense(128, activation=tf.nn.relu)(x)\n",
    "\n",
    "#(0=Angry, 1=Disgust, 2=Fear, 3=Happy, 4=Sad, 5=Surprise, 6=Neutral)\n",
    "outputs = layers.Dense(7, activation=tf.nn.softmax)(x)"
   ]
  },
  {
   "cell_type": "code",
   "execution_count": 16,
   "metadata": {},
   "outputs": [],
   "source": [
    "model = Model(inputs, outputs, name='FRM')"
   ]
  },
  {
   "cell_type": "code",
   "execution_count": 17,
   "metadata": {},
   "outputs": [],
   "source": [
    "model.compile(loss='categorical_crossentropy', optimizer=tf.keras.optimizers.Adam(0.01), metrics=['acc'])"
   ]
  },
  {
   "cell_type": "code",
   "execution_count": 18,
   "metadata": {
    "scrolled": false
   },
   "outputs": [
    {
     "name": "stdout",
     "output_type": "stream",
     "text": [
      "Epoch 1/64\n",
      "191/191 [==============================] - 9s 48ms/step - loss: 1.9596 - acc: 0.2481 - val_loss: 1.8005 - val_acc: 0.2621\n",
      "Epoch 2/64\n",
      "191/191 [==============================] - 9s 45ms/step - loss: 1.7835 - acc: 0.2599 - val_loss: 1.7721 - val_acc: 0.2570\n",
      "Epoch 3/64\n",
      "191/191 [==============================] - 9s 45ms/step - loss: 1.7674 - acc: 0.2699 - val_loss: 1.7459 - val_acc: 0.2916\n",
      "Epoch 4/64\n",
      "191/191 [==============================] - 9s 45ms/step - loss: 1.7475 - acc: 0.2832 - val_loss: 1.7446 - val_acc: 0.2819\n",
      "Epoch 5/64\n",
      "191/191 [==============================] - 9s 45ms/step - loss: 1.7352 - acc: 0.2908 - val_loss: 1.7330 - val_acc: 0.3042\n",
      "Epoch 6/64\n",
      "191/191 [==============================] - 9s 46ms/step - loss: 1.7462 - acc: 0.2880 - val_loss: 1.7330 - val_acc: 0.2942\n",
      "Epoch 7/64\n",
      "191/191 [==============================] - 9s 45ms/step - loss: 1.7086 - acc: 0.3076 - val_loss: 1.6862 - val_acc: 0.3186\n",
      "Epoch 8/64\n",
      "191/191 [==============================] - 8s 44ms/step - loss: 1.6925 - acc: 0.3137 - val_loss: 1.6870 - val_acc: 0.3271\n",
      "Epoch 9/64\n",
      "191/191 [==============================] - 8s 44ms/step - loss: 1.6750 - acc: 0.3251 - val_loss: 1.6670 - val_acc: 0.3322\n",
      "Epoch 10/64\n",
      "191/191 [==============================] - 8s 44ms/step - loss: 1.6640 - acc: 0.3316 - val_loss: 1.6423 - val_acc: 0.3499\n",
      "Epoch 11/64\n",
      "191/191 [==============================] - 8s 44ms/step - loss: 1.6491 - acc: 0.3386 - val_loss: 1.6521 - val_acc: 0.3466\n",
      "Epoch 12/64\n",
      "191/191 [==============================] - 9s 45ms/step - loss: 1.6397 - acc: 0.3425 - val_loss: 1.6426 - val_acc: 0.3439\n",
      "Epoch 13/64\n",
      "191/191 [==============================] - 9s 45ms/step - loss: 1.6327 - acc: 0.3461 - val_loss: 1.6118 - val_acc: 0.3559\n",
      "Epoch 14/64\n",
      "191/191 [==============================] - 9s 45ms/step - loss: 1.6152 - acc: 0.3566 - val_loss: 1.6194 - val_acc: 0.3557\n",
      "Epoch 15/64\n",
      "191/191 [==============================] - 9s 45ms/step - loss: 1.6056 - acc: 0.3622 - val_loss: 1.6181 - val_acc: 0.3571\n",
      "Epoch 16/64\n",
      "191/191 [==============================] - 9s 46ms/step - loss: 1.5810 - acc: 0.3757 - val_loss: 1.5815 - val_acc: 0.3826\n",
      "Epoch 17/64\n",
      "191/191 [==============================] - 9s 45ms/step - loss: 1.5697 - acc: 0.3823 - val_loss: 1.5575 - val_acc: 0.3905\n",
      "Epoch 18/64\n",
      "191/191 [==============================] - 9s 45ms/step - loss: 1.5553 - acc: 0.3880 - val_loss: 1.5786 - val_acc: 0.3840\n",
      "Epoch 19/64\n",
      "191/191 [==============================] - 8s 44ms/step - loss: 1.5341 - acc: 0.3978 - val_loss: 1.5510 - val_acc: 0.3884\n",
      "Epoch 20/64\n",
      "191/191 [==============================] - 8s 44ms/step - loss: 1.5254 - acc: 0.4017 - val_loss: 1.5325 - val_acc: 0.3963\n",
      "Epoch 21/64\n",
      "191/191 [==============================] - 8s 43ms/step - loss: 1.5128 - acc: 0.4104 - val_loss: 1.5572 - val_acc: 0.3910\n",
      "Epoch 22/64\n",
      "191/191 [==============================] - 8s 43ms/step - loss: 1.5085 - acc: 0.4096 - val_loss: 1.5062 - val_acc: 0.4072\n",
      "Epoch 23/64\n",
      "191/191 [==============================] - 8s 44ms/step - loss: 1.4932 - acc: 0.4146 - val_loss: 1.5241 - val_acc: 0.3977\n",
      "Epoch 24/64\n",
      "191/191 [==============================] - 8s 44ms/step - loss: 1.4791 - acc: 0.4196 - val_loss: 1.5007 - val_acc: 0.4014\n",
      "Epoch 25/64\n",
      "191/191 [==============================] - 8s 45ms/step - loss: 1.4675 - acc: 0.4238 - val_loss: 1.5113 - val_acc: 0.3987\n",
      "Epoch 26/64\n",
      "191/191 [==============================] - 9s 45ms/step - loss: 1.4636 - acc: 0.4291 - val_loss: 1.5311 - val_acc: 0.4035\n",
      "Epoch 27/64\n",
      "191/191 [==============================] - 9s 45ms/step - loss: 1.4618 - acc: 0.4294 - val_loss: 1.5247 - val_acc: 0.4014\n",
      "Epoch 28/64\n",
      "191/191 [==============================] - 9s 45ms/step - loss: 1.4503 - acc: 0.4315 - val_loss: 1.5113 - val_acc: 0.4072\n",
      "Epoch 29/64\n",
      "191/191 [==============================] - 9s 45ms/step - loss: 1.4521 - acc: 0.4318 - val_loss: 1.4919 - val_acc: 0.4144\n",
      "Epoch 30/64\n",
      "191/191 [==============================] - 8s 44ms/step - loss: 1.4419 - acc: 0.4356 - val_loss: 1.4971 - val_acc: 0.4126\n",
      "Epoch 31/64\n",
      "191/191 [==============================] - 8s 44ms/step - loss: 1.4418 - acc: 0.4364 - val_loss: 1.4785 - val_acc: 0.4216\n",
      "Epoch 32/64\n",
      "191/191 [==============================] - 8s 44ms/step - loss: 1.4333 - acc: 0.4381 - val_loss: 1.4927 - val_acc: 0.4133\n",
      "Epoch 33/64\n",
      "191/191 [==============================] - 8s 43ms/step - loss: 1.4302 - acc: 0.4399 - val_loss: 1.4913 - val_acc: 0.4184\n",
      "Epoch 34/64\n",
      "191/191 [==============================] - 8s 44ms/step - loss: 1.4224 - acc: 0.4425 - val_loss: 1.4967 - val_acc: 0.4075\n",
      "Epoch 35/64\n",
      "191/191 [==============================] - 8s 44ms/step - loss: 1.4248 - acc: 0.4443 - val_loss: 1.4903 - val_acc: 0.4172\n",
      "Epoch 36/64\n",
      "191/191 [==============================] - 9s 45ms/step - loss: 1.4232 - acc: 0.4453 - val_loss: 1.4764 - val_acc: 0.4177\n",
      "Epoch 37/64\n",
      "191/191 [==============================] - 9s 45ms/step - loss: 1.4188 - acc: 0.4436 - val_loss: 1.4665 - val_acc: 0.4256\n",
      "Epoch 38/64\n",
      "191/191 [==============================] - 9s 45ms/step - loss: 1.4084 - acc: 0.4477 - val_loss: 1.4901 - val_acc: 0.4207\n",
      "Epoch 39/64\n",
      "191/191 [==============================] - 9s 45ms/step - loss: 1.4053 - acc: 0.4496 - val_loss: 1.4983 - val_acc: 0.4128\n",
      "Epoch 40/64\n",
      "191/191 [==============================] - 9s 45ms/step - loss: 1.3995 - acc: 0.4538 - val_loss: 1.4820 - val_acc: 0.4202\n",
      "Epoch 41/64\n",
      "191/191 [==============================] - 9s 45ms/step - loss: 1.3979 - acc: 0.4555 - val_loss: 1.4916 - val_acc: 0.4175\n",
      "Epoch 42/64\n",
      "191/191 [==============================] - 8s 44ms/step - loss: 1.4001 - acc: 0.4521 - val_loss: 1.5063 - val_acc: 0.4077\n",
      "Epoch 43/64\n",
      "191/191 [==============================] - 8s 44ms/step - loss: 1.3942 - acc: 0.4539 - val_loss: 1.4756 - val_acc: 0.4281\n",
      "Epoch 44/64\n",
      "191/191 [==============================] - 8s 44ms/step - loss: 1.3808 - acc: 0.4607 - val_loss: 1.5121 - val_acc: 0.4140\n",
      "Epoch 45/64\n",
      "191/191 [==============================] - 8s 44ms/step - loss: 1.3843 - acc: 0.4577 - val_loss: 1.4919 - val_acc: 0.4149\n",
      "Epoch 46/64\n",
      "191/191 [==============================] - 8s 43ms/step - loss: 1.3776 - acc: 0.4618 - val_loss: 1.4943 - val_acc: 0.4219\n",
      "Epoch 47/64\n",
      "191/191 [==============================] - 8s 44ms/step - loss: 1.3769 - acc: 0.4616 - val_loss: 1.4914 - val_acc: 0.4200\n",
      "Epoch 48/64\n",
      "191/191 [==============================] - 8s 44ms/step - loss: 1.3736 - acc: 0.4648 - val_loss: 1.5030 - val_acc: 0.4223\n",
      "Epoch 49/64\n",
      "191/191 [==============================] - 8s 44ms/step - loss: 1.3828 - acc: 0.4636 - val_loss: 1.4918 - val_acc: 0.4226\n",
      "Epoch 50/64\n",
      "191/191 [==============================] - 9s 45ms/step - loss: 1.3702 - acc: 0.4654 - val_loss: 1.4912 - val_acc: 0.4230\n",
      "Epoch 51/64\n",
      "191/191 [==============================] - 9s 45ms/step - loss: 1.3691 - acc: 0.4690 - val_loss: 1.5268 - val_acc: 0.4130\n",
      "Epoch 52/64\n",
      "191/191 [==============================] - 9s 46ms/step - loss: 1.3775 - acc: 0.4642 - val_loss: 1.5042 - val_acc: 0.4244\n",
      "Epoch 53/64\n",
      "191/191 [==============================] - 9s 45ms/step - loss: 1.3742 - acc: 0.4669 - val_loss: 1.5103 - val_acc: 0.4198\n",
      "Epoch 54/64\n",
      "191/191 [==============================] - 9s 45ms/step - loss: 1.3640 - acc: 0.4708 - val_loss: 1.5292 - val_acc: 0.4207\n",
      "Epoch 55/64\n",
      "191/191 [==============================] - 9s 45ms/step - loss: 1.3614 - acc: 0.4708 - val_loss: 1.5046 - val_acc: 0.4281\n",
      "Epoch 56/64\n",
      "191/191 [==============================] - 8s 44ms/step - loss: 1.3506 - acc: 0.4743 - val_loss: 1.5196 - val_acc: 0.4230\n",
      "Epoch 57/64\n",
      "191/191 [==============================] - 8s 44ms/step - loss: 1.3607 - acc: 0.4696 - val_loss: 1.5167 - val_acc: 0.4161\n",
      "Epoch 58/64\n",
      "191/191 [==============================] - 8s 44ms/step - loss: 1.3487 - acc: 0.4775 - val_loss: 1.5312 - val_acc: 0.4263\n",
      "Epoch 59/64\n",
      "191/191 [==============================] - 8s 44ms/step - loss: 1.3432 - acc: 0.4781 - val_loss: 1.5455 - val_acc: 0.4212\n",
      "Epoch 60/64\n",
      "191/191 [==============================] - 9s 45ms/step - loss: 1.3369 - acc: 0.4792 - val_loss: 1.5374 - val_acc: 0.4117\n",
      "Epoch 61/64\n",
      "191/191 [==============================] - 9s 45ms/step - loss: 1.3410 - acc: 0.4809 - val_loss: 1.5319 - val_acc: 0.4233\n",
      "Epoch 62/64\n"
     ]
    },
    {
     "name": "stdout",
     "output_type": "stream",
     "text": [
      "191/191 [==============================] - 9s 45ms/step - loss: 1.3426 - acc: 0.4780 - val_loss: 1.5265 - val_acc: 0.4177\n",
      "Epoch 63/64\n",
      "191/191 [==============================] - 9s 45ms/step - loss: 1.3281 - acc: 0.4827 - val_loss: 1.5243 - val_acc: 0.4249\n",
      "Epoch 64/64\n",
      "191/191 [==============================] - 9s 45ms/step - loss: 1.3304 - acc: 0.4840 - val_loss: 1.5194 - val_acc: 0.4263\n"
     ]
    },
    {
     "data": {
      "text/plain": [
       "<tensorflow.python.keras.callbacks.History at 0x7f9b97766a00>"
      ]
     },
     "execution_count": 18,
     "metadata": {},
     "output_type": "execute_result"
    }
   ],
   "source": [
    "model.fit(training_dataset, epochs=64, validation_data=(val_x, val_y))"
   ]
  },
  {
   "cell_type": "code",
   "execution_count": 67,
   "metadata": {},
   "outputs": [],
   "source": [
    "test_example = val_x[8]"
   ]
  },
  {
   "cell_type": "code",
   "execution_count": 68,
   "metadata": {},
   "outputs": [
    {
     "data": {
      "text/plain": [
       "<matplotlib.image.AxesImage at 0x7f9c38dcf460>"
      ]
     },
     "execution_count": 68,
     "metadata": {},
     "output_type": "execute_result"
    },
    {
     "data": {
      "image/png": "[encoded data removed]",
      "text/plain": [
       "<Figure size 432x288 with 1 Axes>"
      ]
     },
     "metadata": {
      "needs_background": "light"
     },
     "output_type": "display_data"
    }
   ],
   "source": [
    "plt.imshow(test_example)"
   ]
  },
  {
   "cell_type": "code",
   "execution_count": 71,
   "metadata": {},
   "outputs": [
    {
     "data": {
      "text/plain": [
       "3"
      ]
     },
     "execution_count": 71,
     "metadata": {},
     "output_type": "execute_result"
    }
   ],
   "source": [
    "np.argmax(val_y[8])"
   ]
  },
  {
   "cell_type": "code",
   "execution_count": 72,
   "metadata": {},
   "outputs": [],
   "source": [
    "predictions = model(test_example[None,])"
   ]
  },
  {
   "cell_type": "code",
   "execution_count": 73,
   "metadata": {},
   "outputs": [
    {
     "data": {
      "text/plain": [
       "3"
      ]
     },
     "execution_count": 73,
     "metadata": {},
     "output_type": "execute_result"
    }
   ],
   "source": [
    "np.argmax(predictions)"
   ]
  },
  {
   "cell_type": "code",
   "execution_count": null,
   "metadata": {},
   "outputs": [],
   "source": []
  }
 ],
 "metadata": {
  "kernelspec": {
   "display_name": "Python 3",
   "language": "python",
   "name": "python3"
  },
  "language_info": {
   "codemirror_mode": {
    "name": "ipython",
    "version": 3
   },
   "file_extension": ".py",
   "mimetype": "text/x-python",
   "name": "python",
   "nbconvert_exporter": "python",
   "pygments_lexer": "ipython3",
   "version": "3.8.5"
  }
 },
 "nbformat": 4,
 "nbformat_minor": 4
}
